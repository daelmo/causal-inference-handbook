{
 "cells": [
  {
   "cell_type": "markdown",
   "metadata": {},
   "source": [
    "## Exchangeability\n",
    "\n",
    "### Definition\n",
    "Consider a structural causal model $\\mathcal{D}$ from which an independent variable $X$ and a response variable $Y$ are generated. We say the conditional counterfactuals $(Y^X | X=x)$ are exchangeable for all values of $x$ if $Y^X \\perp \\!\\!\\! \\perp X$. (c.f. counterfactual)\n",
    "\n",
    "### Examples\n",
    "Consider a medical treatment experiment where $X \\in \\{0,1\\}$ denotes the random variable for *no treatment* or *treatment*, and $Y \\in \\{0,1\\}$ denotes the random variable for *recovery* or *no recovery*. Suppose that the generating process for $X$ and $Y$ includes a third variable $F \\in \\{0, 1\\}$ denoting *male* or *female*, where the process is such that male subjects are both more likely to take the treatment and to rocover. Then $Y^X$ is dependent of $X$, because had we known that a subject is receiving a treatment, we could deduce that they are more likely male, hence they are more likely to recover with or without a treatment than had we known a subject is female. \n",
    "\n",
    "### Connection to the statistical definition"
   ]
  },
  {
   "cell_type": "code",
   "execution_count": null,
   "metadata": {},
   "outputs": [],
   "source": []
  }
 ],
 "metadata": {
  "kernelspec": {
   "display_name": "Python 3",
   "language": "python",
   "name": "python3"
  },
  "language_info": {
   "codemirror_mode": {
    "name": "ipython",
    "version": 3
   },
   "file_extension": ".py",
   "mimetype": "text/x-python",
   "name": "python",
   "nbconvert_exporter": "python",
   "pygments_lexer": "ipython3",
   "version": "3.7.6"
  },
  "toc": {
   "base_numbering": 1,
   "nav_menu": {},
   "number_sections": true,
   "sideBar": true,
   "skip_h1_title": false,
   "title_cell": "Table of Contents",
   "title_sidebar": "Contents",
   "toc_cell": false,
   "toc_position": {},
   "toc_section_display": true,
   "toc_window_display": false
  }
 },
 "nbformat": 4,
 "nbformat_minor": 4
}
