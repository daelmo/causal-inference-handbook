{
 "cells": [
  {
   "cell_type": "markdown",
   "metadata": {},
   "source": [
    "## Exchangeability\n",
    "\n",
    "### Definition\n",
    "Consider a structural causal model $\\mathcal{D}$ from which an independent variable $X$ and a response variable $Y$ are generated. We say the conditional counterfactuals $(Y^X | X=x)$ are *exchangeable* for all values of $x$ if $Y^X \\perp  X$. (c.f. counterfactual (todo: add a link to counterfactual definition))\n",
    "\n",
    "### Example(s)\n",
    "1. Consider a medical treatment experiment where $X \\in \\{0,1\\}$ denotes the random variable for *no treatment* or *treatment*, and $Y \\in \\{0,1\\}$ denotes the random variable for *recovery* or *no recovery*. Suppose that the generating process for $X$ and $Y$ includes a third variable $F \\in \\{0, 1\\}$ denoting *male* or *female*, where the process is such that male subjects are both more likely to take the treatment and to rocover. Then $Y^X$ is dependent of $X$, because had we known that a subject is about to receive a treatment, we could deduce that they are more likely male, hence they are more likely to recover with or without a treatment than had we known a subject is female. In other words, $Y^X | X=1$ and $Y^X | X=0$ are different distributions.\n",
    "\n",
    "### Counterexample(s)\n",
    "1. Consider this time a medical treatment experiment where $X$ and $Y$ are same as above. Now instead of supposing that there is a third variable being gender of the subject, suppose instead that there is a third variable being the blood pressure after taking the treatment. The treatment causes an increase in the blood pressure, which in turn makes recovery more likely. In this case, $Y^X$ is *independent* of $X$, and the reason is as follows. Suppose we observe a subject A who is about to receive a treatment and a subject B who is not about to receive a treatment. Now we intervene and actually use the treatment on *both* A and B. We should observe that their chances of recovery is the same, because the change in blood pressure will occur *because of* the treatment. Similarly, when we don't use the treatment on A *or* B, their chance of recovery is also the same. In other words, $Y^X|X=1$ and $Y^X|X=0$ are the same distributions. Furthermore, since $P(X=1) = P(X=0) = 0.5$, \n",
    "$$\n",
    "P(Y^X) = P(Y^X|X=1)P(X=1) + P(Y^X|X=0)P(X=0) = P(Y^X|X=1) = P(Y^X|X=0)\n",
    "$$\n",
    "i.e. $Y^X \\perp X$, consistent with the definition of exchangeability. \n",
    "\n",
    "\n",
    "### Connection to the statistical definition\n",
    "Statistically, a sequence of random variables are said to be exchangeable if their joint distribution is the same when we permute the variables. In mathematical language, this is to say: $X_1, ..., X_N$ is exchangeable if for any permutation $\\rho(n)$ of $N$ variables, $P(X_1,..., X_N) = P(X_{\\rho(1)}, ..., X_{\\rho(N)})$. \n",
    "\n",
    "Setting the $X_n$'s to conditional counterfactuals, and observing that the conditional counterfactuals are all independent (), we recover the statistical definition. (Check if the last thing is right.)"
   ]
  }
 ],
 "metadata": {
  "kernelspec": {
   "display_name": "Python 3",
   "language": "python",
   "name": "python3"
  },
  "language_info": {
   "codemirror_mode": {
    "name": "ipython",
    "version": 3
   },
   "file_extension": ".py",
   "mimetype": "text/x-python",
   "name": "python",
   "nbconvert_exporter": "python",
   "pygments_lexer": "ipython3",
   "version": "3.7.6"
  },
  "toc": {
   "base_numbering": 1,
   "nav_menu": {},
   "number_sections": true,
   "sideBar": true,
   "skip_h1_title": false,
   "title_cell": "Table of Contents",
   "title_sidebar": "Contents",
   "toc_cell": false,
   "toc_position": {},
   "toc_section_display": true,
   "toc_window_display": false
  }
 },
 "nbformat": 4,
 "nbformat_minor": 4
}
